{
 "cells": [
  {
   "cell_type": "markdown",
   "id": "b75832a3-8b7d-453d-8bf5-b45252826def",
   "metadata": {},
   "source": [
    "## Image Comparison Using OpenCV\n",
    "- Preprocess Images: Resize and align images if necessary.\n",
    "- Object Detection: Identify objects in both images.\n",
    "    - Compare Objects:\n",
    "    - Detect new objects added.\n",
    "    - Identify objects that disappeared.\n",
    "    - Track position changes of objects.\n",
    "    - Highlight Differences: Generate an output image or report showing differences.\n",
    "- You can compare two images for object differences using Python with OpenCV, NumPy, and YOLO (or other object detection models like SSD, Faster R-CNN, or Detectron2)."
   ]
  },
  {
   "cell_type": "markdown",
   "id": "4c07d1d8-dc2a-4bb2-8d96-020ceb178e6b",
   "metadata": {},
   "source": [
    "## Approach\n",
    "- Preprocess Images (Resize, Convert to Grayscale, Align if needed).\n",
    "- Object Detection in Both Images (Using YOLO or OpenCV Pre-trained Model).\n",
    "- Compare Detected Objects (Identify additions, removals, or shifts).\n",
    "- Highlight Differences (Draw bounding boxes on changed objects).\n",
    "## Methods\n",
    "- Basic OpenCV (Difference Detection)\tSimple pixel-based changes (good for static environments)\n",
    "- YOLO-based Object Detection\tDetects specific objects added/removed (better for dynamic environments)"
   ]
  },
  {
   "cell_type": "code",
   "execution_count": null,
   "id": "c5cf18c7-4839-4aa9-966f-917ae2c9d6c7",
   "metadata": {},
   "outputs": [],
   "source": []
  },
  {
   "cell_type": "code",
   "execution_count": null,
   "id": "b42ef60d-19ca-49e7-9cae-79f8952a35f7",
   "metadata": {},
   "outputs": [],
   "source": [
    "import cv2\n",
    "import numpy as np\n",
    "\n",
    "def detect_differences(img1_path, img2_path, output_path=\"diff_output.png\"):\n",
    "    # Load images\n",
    "    img1 = cv2.imread(img1_path)\n",
    "    img2 = cv2.imread(img2_path)\n",
    "\n",
    "    # Convert to grayscale\n",
    "    gray1 = cv2.cvtColor(img1, cv2.COLOR_BGR2GRAY)\n",
    "    gray2 = cv2.cvtColor(img2, cv2.COLOR_BGR2GRAY)\n",
    "\n",
    "    # Compute absolute difference\n",
    "    diff = cv2.absdiff(gray1, gray2)\n",
    "\n",
    "    # Threshold the difference (Highlight changes)\n",
    "    _, thresh = cv2.threshold(diff, 30, 255, cv2.THRESH_BINARY)\n",
    "\n",
    "    # Find contours (Areas where objects changed)\n",
    "    contours, _ = cv2.findContours(thresh, cv2.RETR_EXTERNAL, cv2.CHAIN_APPROX_SIMPLE)\n",
    "\n",
    "    # Draw rectangles around detected changes\n",
    "    for contour in contours:\n",
    "        if cv2.contourArea(contour) > 500:  # Filter small changes\n",
    "            x, y, w, h = cv2.boundingRect(contour)\n",
    "            cv2.rectangle(img2, (x, y), (x+w, y+h), (0, 255, 0), 3)\n",
    "\n",
    "    # Save the output image with differences highlighted\n",
    "    cv2.imwrite(output_path, img2)\n",
    "\n",
    "    print(f\"Comparison complete. Differences highlighted and saved as {output_path}\")\n",
    "\n",
    "# Run the function with two images\n",
    "detect_differences(\"image1.jpg\", \"image2.jpg\")"
   ]
  }
 ],
 "metadata": {
  "kernelspec": {
   "display_name": "Python 3 (ipykernel)",
   "language": "python",
   "name": "python3"
  },
  "language_info": {
   "codemirror_mode": {
    "name": "ipython",
    "version": 3
   },
   "file_extension": ".py",
   "mimetype": "text/x-python",
   "name": "python",
   "nbconvert_exporter": "python",
   "pygments_lexer": "ipython3",
   "version": "3.11.5"
  }
 },
 "nbformat": 4,
 "nbformat_minor": 5
}
