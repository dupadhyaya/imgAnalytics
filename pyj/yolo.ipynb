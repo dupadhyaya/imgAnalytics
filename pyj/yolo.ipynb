{
 "cells": [
  {
   "cell_type": "markdown",
   "id": "10be2335-e1fc-4632-9c45-23d3fde7d7ed",
   "metadata": {},
   "source": [
    "## Advanced Approach: Object Detection with YOLO (More Accurate)\n",
    "- identify specific objects that were added or removed, use YOLOv8 (Ultralytics):"
   ]
  },
  {
   "cell_type": "code",
   "execution_count": 1,
   "id": "9768d721-6f12-416d-a984-1ae4aee389a5",
   "metadata": {
    "tags": []
   },
   "outputs": [],
   "source": [
    "#pip install ultralytics"
   ]
  },
  {
   "cell_type": "code",
   "execution_count": null,
   "id": "99112ae3-8250-47ca-bfef-a6b05cb36ffc",
   "metadata": {},
   "outputs": [],
   "source": []
  },
  {
   "cell_type": "code",
   "execution_count": null,
   "id": "1bdddee4-51b4-47f8-9f37-f47ee124f5ce",
   "metadata": {},
   "outputs": [],
   "source": [
    "from ultralytics import YOLO\n",
    "\n",
    "# Load YOLOv8 model\n",
    "model = YOLO(\"yolov8n.pt\")\n",
    "\n",
    "def detect_objects(image_path):\n",
    "    results = model(image_path)\n",
    "    detected_objects = []\n",
    "    \n",
    "    for r in results:\n",
    "        for box in r.boxes:\n",
    "            cls = model.names[int(box.cls)]\n",
    "            detected_objects.append(cls)\n",
    "    \n",
    "    return set(detected_objects)\n",
    "\n",
    "# Detect objects in both images\n",
    "objects_img1 = detect_objects(\"image1.jpg\")\n",
    "objects_img2 = detect_objects(\"image2.jpg\")\n",
    "\n",
    "# Compare objects\n",
    "added_objects = objects_img2 - objects_img1\n",
    "removed_objects = objects_img1 - objects_img2\n",
    "\n",
    "print(\"Objects added:\", added_objects)\n",
    "print(\"Objects removed:\", removed_objects)"
   ]
  }
 ],
 "metadata": {
  "kernelspec": {
   "display_name": "Python 3 (ipykernel)",
   "language": "python",
   "name": "python3"
  },
  "language_info": {
   "codemirror_mode": {
    "name": "ipython",
    "version": 3
   },
   "file_extension": ".py",
   "mimetype": "text/x-python",
   "name": "python",
   "nbconvert_exporter": "python",
   "pygments_lexer": "ipython3",
   "version": "3.11.5"
  }
 },
 "nbformat": 4,
 "nbformat_minor": 5
}
